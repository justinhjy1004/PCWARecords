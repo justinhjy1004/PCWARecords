{
 "cells": [
  {
   "cell_type": "code",
   "execution_count": 81,
   "metadata": {},
   "outputs": [],
   "source": [
    "from bs4 import BeautifulSoup\n",
    "import re\n",
    "import logging\n",
    "import datetime\n",
    "import pandas as pd\n",
    "import sqlite3\n",
    "LOG_FILENAME = 'html_extract.log'\n",
    "logging.basicConfig(filename=LOG_FILENAME,level=logging.DEBUG)\n",
    "\n",
    "\n",
    "df = pd.read_csv(\"CaseNumber.csv\")\n",
    "case_numbers = df[\"CaseNumber\"].to_list()\n",
    "\n",
    "con = sqlite3.connect(\"records.db\")\n",
    "cur = con.cursor()\n",
    "\n",
    "for c in case_numbers:\n",
    "    try:\n",
    "\n",
    "        file = open(f\"./Records/{c}/{c}.htm\",'r')\n",
    "\n",
    "        con.execute(f\"UPDATE Records SET HasRecordDownloaded = 1 WHERE CaseNumber = \\\"{c}\\\"\")\n",
    "        con.commit()\n",
    "\n",
    "        soup = BeautifulSoup( file, \"html.parser\")\n",
    "        tds = soup.select('td')\n",
    "\n",
    "        for td in tds :\n",
    "            if re.search(\"summons\", td.text, re.IGNORECASE):\n",
    "\n",
    "                summons = td\n",
    "                objs = list(summons.parent)\n",
    "                summons_date = datetime.datetime.strptime(objs[0].text, '%m/%d/%Y').strftime('%Y-%m-%d')\n",
    "                summons_path = objs[1].find_all(\"a\", href=True)[0][\"href\"]\n",
    "                text_path = re.sub(\"pdf\", \"txt\", summons_path)\n",
    "        \n",
    "                summons_file = open(f\"./Records/{c}/{text_path}\",'r')\n",
    "                summons_text = summons_file.read()\n",
    "\n",
    "                summons_text = re.sub(r\"\\'\", \"\\'\\'\", summons_text)\n",
    "                summons_text = re.sub(r\"\\\"\", \"\\\"\\\"\", summons_text)\n",
    "\n",
    "                cur.execute(f\"\"\"\n",
    "                    UPDATE Records SET\n",
    "                        SummonsPath = \\\"{summons_path}\\\",\n",
    "                        SummonsText = \\\"{summons_text}\\\",\n",
    "                        SummonsDate = \\\"{summons_date}\\\"\n",
    "                    WHERE CaseNumber = \\\"{c}\\\"\n",
    "                    \"\"\")\n",
    "                \n",
    "                con.commit()\n",
    "\n",
    "            if re.search(\"return on writ\", td.text, re.IGNORECASE):\n",
    "\n",
    "                writ = td\n",
    "                objs = list(writ.parent)\n",
    "                writ_date = datetime.datetime.strptime(objs[0].text, '%m/%d/%Y').strftime('%Y-%m-%d')\n",
    "                writ_path = objs[1].find_all(\"a\", href=True)[0][\"href\"]\n",
    "                text_path = re.sub(\"pdf\", \"txt\", writ_path)\n",
    "    \n",
    "                writ_file = open(f\"./Records/{c}/{text_path}\",'r')\n",
    "                writ_text = writ_file.read()\n",
    "\n",
    "                writ_text = re.sub(r\"\\'\", \"\\'\\'\", writ_text)\n",
    "                writ_text = re.sub(r\"\\\"\", \"\\\"\\\"\", writ_text)\n",
    "\n",
    "                cur.execute(f\"\"\"\n",
    "                    UPDATE Records SET\n",
    "                        WritIssued = 1,\n",
    "                        WritPath = \\\"{writ_path}\\\",\n",
    "                        WritText = \\\"{writ_text}\\\",\n",
    "                        WritDate = \\\"{writ_date}\\\"\n",
    "                    WHERE CaseNumber = \\\"{c}\\\"\n",
    "                    \"\"\")\n",
    "                \n",
    "                con.commit()\n",
    "\n",
    "        if len(tds) > 5:\n",
    "            last_entry = tds[-5]\n",
    "            objs = list(tds[-5].parent)\n",
    "\n",
    "            last_entry_date = datetime.datetime.strptime(objs[0].text, '%m/%d/%Y').strftime('%Y-%m-%d')\n",
    "            last_entry_action = objs[1].text\n",
    "\n",
    "            cur.execute(f\"\"\"\n",
    "                    UPDATE Records SET\n",
    "                        LastFilingEntry = \\\"{last_entry_action}\\\",\n",
    "                        LastFilingDate = \\\"{last_entry_date}\\\"\n",
    "                    WHERE CaseNumber = \\\"{c}\\\"\n",
    "                    \"\"\")\n",
    "            \n",
    "        con.commit()\n",
    "\n",
    "\n",
    "    except OSError:\n",
    "        logging.debug(c)\n",
    "        con.execute(f\"UPDATE Records SET HasRecordDownloaded = 0 WHERE CaseNumber = \\\"{c}\\\"\")\n",
    "        con.commit()\n",
    "\n",
    "con.close()"
   ]
  },
  {
   "cell_type": "code",
   "execution_count": 59,
   "metadata": {},
   "outputs": [],
   "source": [
    "import ollama\n",
    "import sqlite3\n",
    "\n",
    "con = sqlite3.connect(\"records.db\")\n",
    "cur = con.cursor()\n",
    "\n",
    "case_numbers = cur.execute(\"SELECT CaseNumber from Records where DefendantsAddress is null\").fetchall()\n",
    "\n",
    "case_numbers = [c[0] for c in case_numbers]"
   ]
  },
  {
   "cell_type": "code",
   "execution_count": 67,
   "metadata": {},
   "outputs": [],
   "source": [
    "c = case_numbers[2]"
   ]
  },
  {
   "cell_type": "code",
   "execution_count": 68,
   "metadata": {},
   "outputs": [],
   "source": [
    "def fetch_document(cursor, doc_type, case_number) -> str:\n",
    "    return cursor.execute(f\"SELECT {doc_type}Text from Records where CaseNumber = \\'{case_number}\\'\").fetchone()[0]"
   ]
  },
  {
   "cell_type": "code",
   "execution_count": 69,
   "metadata": {},
   "outputs": [],
   "source": [
    "complaint = fetch_document(cur, \"Complaint\", c)"
   ]
  },
  {
   "cell_type": "code",
   "execution_count": 70,
   "metadata": {},
   "outputs": [
    {
     "data": {
      "text/plain": [
       "'E-FILED\\nIN COUNTY CLER\\n\\n\\'\\'S OFFICE\\n\\nPIERCE COUNTY, WASHINGTON\\n\\nJanuary 03 2017\\nKEVIN ST\\nCOUNTY CLI\\nNO: 17-2-0\\nTHE SUPERIOR COURT OF THE STATE OF WASHINGTON\\nIN AND FOR THE COUNTY OF PIERCE\\nOLEG TKACH, No.\\nPlaintiff, COMPLAINT FOR UNLAWFUL\\nvs. DETAINER\\nWESLEY JOHNSON and\\n\\nAMBER JOHNSON, et. al..\\n\\nDefendant(s).\\n\\nSS OS YS SS SS\\n\\nCOMES NOW the Plaintiff and for cause of action against the Defendant(s) alleges as\\nfollows:\\n18\\nPlaintiff is the owner, pursuant to a bargain and sale deed as a result of a foreclosure\\neffective October 26, 2016 (a copy of which is attached hereto as EXHIBIT A). of the\\nfollowing unit Pierce County, Washington:\\n18324 80 AVENUE EAST\\n\\nPUYALLUP, WA 98375\\nIL.\\n\\nDefendant(s) occupied the above-described premises pursuant to an agreement with\\n\\nCOMPLAINT FOR UNLAWFUL DETAINER - 1 THE GRAY LAW FIRM, P.S.\\nJudson C. Gray, Attorney\\n4142 - 6th Avenue\\nTacoma, Washington 98406\\nTelephone (253) 759-1141 Facsimile (253) 759-1447\\njgravyattorney@harbomet.com\\n\\n9:32 AM\\n\\nK\\nRK\\n04-0\\n\\n12\\n\\nw\\n\\ney\\n\\nthe prior owner confirmed by the Defendants with the current owner to rent the property for\\nthe sum of $1,200.00 per month.\\nIl.\\nDefendant(s) are unlawfully holding over and trespassing after receiving a 3-Day\\nNotice to Pay Rent or Vacate, 10-Day Notice to Comply or Vacate, 20-Day Notice to\\n\\nTerminate Tenancy, and have failed to pay the following amounts that are now delinquent:\\n\\nDecember 2016 Rent: $1,200.00\\nNovember 2016 Rent: $1,200.00\\nNovember 2016 Late Fee; $100.00\\nTotal: $2,500.00\\nIV,\\n\\nOn or about December 8, 2016, there was delivered upon Defendant(s) a 3-Day Notice\\nto Pay Rent of Vacate (copy attached hereto as EXHIBIT B). More than three (3) days have\\nelapsed since the date of service of said Notice upon said Defendant(s) and the Defendant(s)\\nhave neither paid rent nor vacated and surrendered the premises. In addition, on or about\\nDecember 8, 2016, Defendants were served with a 10 Day Notice to Comply or Vacate (copy\\nattached hereto as EXHIBIT C). Furthermore, On or about November 28, 2016, there was\\nalso delivered upon Defendant(s) a 20-Day Notice to Terminate Tenancy on or about\\nNovember 28, 2016 terminating their tenancy as of January 28, 2017 (copy attached hereto as\\nEXHIBIT D). Plaintiff is due rent in the sum of $1,200.00 per month for Defendant\\'\\'s\\n\\nunlawful holding over.\\n\\nCOMPLAINT FOR UNLAWFUL DETAINER - 2 THE GRAY LAW FIRM, P.S.\\nJudson C. Gray, Attorney\\n4142 - 6th Avenue\\nTacoma, Washington 98406\\nTelephone (253) 759-1141 Facsimile (253) 759-1447\\njgrayattornev@harbornet.com\\n\\nWw\\n\\nV.\\nRCW 59.18.410 provides that Plaintiff may have a judgment for reasonable attorney’s\\nfees in an action for unlawful detainer. Plaintiff\\'\\'s reasonable attorney’s fees, if this matter\\nshould be uncontested, are $575.00: if this matter is contested, Plaintiff should have a\\n\\njudgment against Defendant(s) in such an amount as the court shall award.\\n\\nWHEREFORE. Plaintiff prays for judgment as follows:\\n\\nid Declaring Defendant\\'\\'s tenancy of the above-described premises terminated:\\n2. For restitution of said premises to Plaintiff:\\n3; For damages for failure to pay rent for the month of November 2016,\\n\\nDecember 2016, and for each additional month of continued occupation:\\n\\n4. For damages for unlawful detention of said premises:\\n\\n5. For Plaintiff\\'\\'s costs of suit declaring the forfeiture of said lease. including\\nattorney fees: and\\n\\n6. For such other and further relief as to the court deems just and equitable.\\n\\nDATED this }$ day of December 2016.\\n\\nV\\n\\nJUDSO C. GRAY, WSBA #15195\\nJARED, $. PRIVATT, WSBA #46740\\nAttorney for Plaintiff\\n\\nCOMPLAINT FOR UNLAWFUL DETAINER - 3 THE GRAY LAW FIRM, P.S.\\nJudson C. Gray, Attorney\\n4142 - 6th Avenue\\nTacoma, Washington 98406\\nTelephone (253) 759-1141 Facsimile (253) 759-1447\\njgrayattorney@harbornet.com\\n\\nEXHIBIT A\\n201610260745 Page 1 of 3\\n\\nLhe\\n\\n10/26/2016 03:50:33 PK $75.00\\naDITe Pierce County, WASHINGTON\\n\\nRECORDING REQUESTED BY:\\n3 CELINE\\n\\nWHEN. RECORDED MAIL TO:\\nOLEG. TKACH, ~~\\n3809 185TH PEACE: sw’.\\nLYNNWOOD, WA ae\\n\\nenzxis74\\n\\n“5 i, SEE TITLE(S):\\n\\n\"BARGAIN AND SALE DEED\\n\\nGRANTOR®):\\n\\nU.S. BANK NATIONAL ASSOCIATION, AS TRUSTEE, SUCCESSOR IN\\nINTEREST TO LASALLE BANK NATIONAL ASSOCIATION, AS TRUSTEE\\nFOR LEHMAN XS TRUST MORTGAGE -* acs CERTIFICATES,\\n\\n~ SERIES, 2008; 2°\\n\\nLOTS WINDWOOD | a. 1 ier 205002\\n\\np= DierlCe @donx\\n\\n6024670050\\n\\n‘QjPS-a4 4J0J JOU ‘AjUO BDUaIAaJa4 JO\\n\\nee\\n\\n10/26/2016 03:49:35 Ph PPRICE 44iM04 1 PG\\nEXCISE COLLECTED: $3,850.14 PROC FEE: $0.00\\nAUDITOR\\n\\nPierce County, WASHINGTON TECH FEE: $5.00\\n\\n‘g]eS-a4 JOJ Jou ‘AjUO adUaaJa4 4104\\n\\nOleg Tach j\\n\\n201610260745 Page 2 of 3\\n\\n3809 185\" Place SW\\nLymer WA, 9803\\n\\nEscrow No: Ws\\n\\n\"BARGAIN AND SALE DEED\\n\\nTHE GRANTOR, U.S. Bank ‘Nat ynal ‘Association, as Trustee, Successor in Interest to\\nLaSalle Bank National ASsoviation,.2s Trustee, for Lehman XS Trust Mortgage Pass-\\nThrough Certificates, Series 2005-2, for and in consideration of Ten Dollars and other\\nvaluable consideration in hand Paid. rgdins, sells. and conveys to:\\n\\nOleg Tkach, a married man\\n\\nthe following described rea! property. gail yl Coat of Pierce, State of Washington:\\n\\nLOT 5. WINDWOOD DIVISION I]. ACCORDING FO lea PLAT RECORDED UNDER\\nAUDITORS NO 200407305002. IN PIERCE COUNTY.\\n\\nTax Parcel No.: 602467-0050\\n\\n‘gjeS-a4 JO} JOU ‘AJUO aDUaIAJa4 104\\n\\n201610260745 Page 3 of 3\\n\\n” Bapk: ‘National Association, as Trustee, Successor\\n\\nin Intérest fo LaSalle -Bank National Association, as\\n\\nTrustee’ ihe Lehman! “XS Trust Mortgage Pass-Through\\n«Senin\\n\\nName:\\n\\nchal frfrisel is 2”\\n\\nd who proved to me on\\nthe basis of satisfactory evidence to be the person(s) whose augme{s) ishare subscribed to the within instrument\\nand acknowledged to me that he/she/they executed the samé in his/oeriticr authorized capacity(ies), and that by\\nhis/her/their signature(s) on the instrument the pet ‘or\\'\\'the ity upon behalf of which the person(s) acted,\\nexecuted the instrument. nee\\n\\nI certify under PENALTY OF PERJURY under the laws oft Bt\\nthat the foregoing paragraph is true and correct.\\nWITNESS my hand and official seal.\\n\\nE PATRISE WALLiANS\\nME START PUBLIC\\nSTATE OF COLORADO <\\nNOTARY !D 20144022738 +\\nAny COMMISSION EXPIRES JUNE 6. 2018 5 !\\n\\nEXHIBIT B\\nDec.15.2016 09:17 3608938875 PAGE. 2/\\n\\nCOPY PROSPER\\n\\nPROPERTY MANAGEMENT LLC\\n3 DAY PAY RENT OR VACATE NOTICE\\n\\nWelsey Johnson & Amber Johnson\\n\\nResident Name(s)\\n18324 80th Ave E Puyallup WA 98375\\nAddress Unit City State Zip\\n\\nProsper Property Management LLC December 8, 2016\\nButiding Name Date\\n\\n3 DAY PAY RENT OR VACATE NOTICE (RCW 59,12.030 (3))\\n\\nYOU AND EACH OF YOU ARE HEREBY NOTIFIED THAT rent for the premises located a 18324 80th Ave E City of\\nPuyallup , Pierce _ County, Washington Is now due and payable as follows:\\n\\nITEM AMOUNT\\n[7] Rent due for month of; November 2016 $1200.00\\nTZ] Rent due for month of; Oecember 2016 $1200.00\\nC1 Rentdueformonthof $\\n1 Rent due for month of: §\\n\\nTa\\n\\nThis notice does not constitute walver of non-rent amounts due which may exist and are not listed on this form.\\n\\nAND YOU ARE HEREBY NOTIFIED and required to pay the above rent to the undersigned or the agent named below, within three (3)\\ndays from the date of service of this notice upon you, OR IN THE ALTERNATIVE, to vacate and surrender the pramises. IN THE EVENT\\nof your fallure to do so within the sald period, you will be guilty of unlawful detainer and subject to eviction as provided by law, Each\\nnotice requires compliance with its terms, Compliance with one notice Is not compliance with other notices,\\n\\nRENT SHOULD BE PAID WITHIN THREE DAYS TO\\n\\nOwner / Agent\\n\\nXx WA\\nStreet Address City State 2ip\\nDATED this 8 day of December 29 16.\\n\\n(date) (month) (year)\\n\\nEXHIBIT C\\nDec.15.2016 09:17 3608938875 PAGE. 3/\\n\\nCOPY PROSPER\\n\\nPROPERTY MANAGEMENT LLC\\n\\n10-DAY NOTICE TO COMPLY WITH RENTAL AGREEMENT OR LEASE CONTRACT\\nee NENTORLEASECONTRACT =\\nWelsey Johnson & Amber John:\\nResident Name(s)\\n\\n$324 80th Ave B alu, WA 98375\\nAddress\\n\\nUnit City State Zip\\nProsper Property Management LLC December 8, 2016\\nBullding Name Date\\n\\nYOU ARE HEREBY NOTIFIED that you have 10 days fiom receipt of this notice to correct the following breach, or in the alternative,\\nvacate the rented premise, This notice is pursuant to RCW 59,12.030, #4.\\n\\nPlease take notice that the following condition(s) of your Rental Agreoment and/or Rule and Regulations are being breached\\n(applicable breaches ave marked below):\\n\\nPXiRenraiease AGREEMENT, paragraph 2, RENT: “Rent received on or after the Sth day of each month shall result in\\nassessment against Resident of a $40.00 late payment charge plus $10.00 each additional day thereafter that rent has not been paid\\nin full, all of which shall be considered to be additional rent and must be paid at the time the delinquent rent is paid.”\\n\\nYour rent balance was not paid in full by the fifth day of this current month and a late fee is now owed.\\nAND/OR\\nJRENTAL/LEASE AGREEMENT, paragraph 2. RENT, which states “Any payment which fuils to clear the bank shall be treated ag\\nunpaid rent and shall be subject to the aforementioned late payment charge, plus a $25.00 returned payment fee....:\\nYour Payment Number___was returned by the bank, You are required to substitute sald cheok with a money order, cashier\\'\\'s\\ncheck or certified check and pay $25,00 returned check fee.\\nAND/OR\\n[_]renra/Lease AGREEMENT, paragraph 32. UTILITIES, which states: “Tenant shall, in addition to rent, pay for all utilities\\n\\ncharged against the apartment EXCEPT FOR: N/A ~\\nA$. amount was assessed for tenant’s portion utilities, is currently is ourrently owed and must be paid immediately,\\n\\n[_]orHer LEASE/AGREEMENT VIOLATIONS (Non-payment):\\n\\na\\n\\nFurther, you shall continue to be obligated to comply with your rental agreement by correcting the above referenced breaches as well\\nas complying with all other terms, conditions, rules, and regulations of your rental agreement during the duration of your tenancy,\\n\\nSaid premises are situated in the County of _Plerce__, State of Washington, and are desoribed as follows:\\n\\n18324 80th Ave E , Unit.#\\nPuyallup WA __ 98375\\n\\nI swear under penalty and petjury and under the laws of the State of Washington that I delivered / posted / mailed the following Notice\\n—8 dayof December _ 20 16\\n\\nDATED thig_ 20 lO\\n\\nProperty Manager/Agent\\n\\nEXHIBIT D\\nDec.15.2016 09:21 3608938875 PAGE. 6/ 6\\n\\nPROSPER\\n\\nPROPERTY MANAGEMENT LLC\\n\\n20 DAYS NOTICE TO TERMINATE TENANCY\\n—__--—Kr—0S[—=®=@wasseeeeee eee eee\\n\\nWesley and Amber Johnson\\nResident Name(s)\\n\\nResident Namaig)\\n18324 80th Ave E Puyallup WA 98375\\n\\nAddress Unit # Clty State Zip\\n\\nProsper Property Management LLC 11/28/2018\\n\\nBuilding Name Date\\n\\nYOU AND EACH OF YOU ARE HEREBY NOTIFIED and informed that your tenancy for the certain premises situated in\\n\\nPierce County, at the above address is hereby terminated on the date set forth\\n\\nbelow, and that on sald date you will be required to surrender the possession of said premises to sald owner or the agent\\nnamed below.\\n\\nTermination Date: January 28, 2017\\n(Last day of rental period)\\n\\nIN THE EVENT of your failure to vacate within the sald period, you will be guilty of untawful detainer and subject to eviction ae\\n\\nprovided by law.\\n\\nDATED this____28 day of___November , 2016 _.\\n(date) (month) (year)\\n\\nOWNER\\n\\nP,\\n\\nADDRESS\\n\\ncITY/ ey ZIP\\n'"
      ]
     },
     "execution_count": 70,
     "metadata": {},
     "output_type": "execute_result"
    }
   ],
   "source": [
    "complaint"
   ]
  },
  {
   "cell_type": "code",
   "execution_count": 71,
   "metadata": {},
   "outputs": [],
   "source": [
    "rent_owed_instruction = \"Based on the Complaint above, what is the total owed by the defendant to the landlord? Respond with only the total amount, in the following format: XXX.XX.\"\n",
    "\n",
    "defendant_address_instruction = \"Based on the Complaint above, what is the defendant's address? Only provide the address.\"\n",
    "\n",
    "monthly_rent_instruction = \"Based on the Complaint above, what is the defendant's monthly rent? Respond in the amount in the format XXX.XX.\"\n",
    "\n",
    "def extract_info(source_text, instructions):\n",
    "\n",
    "    response = ollama.chat(model='llama3.2', messages=[\n",
    "    {\n",
    "        'role': 'user',\n",
    "        'content': f'{source_text}\\n\\n{instructions}',\n",
    "    },\n",
    "    ])\n",
    "    \n",
    "    return response['message']['content']"
   ]
  },
  {
   "cell_type": "code",
   "execution_count": 72,
   "metadata": {},
   "outputs": [],
   "source": [
    "defendant_address = extract_info(complaint, defendant_address_instruction)"
   ]
  },
  {
   "cell_type": "code",
   "execution_count": 73,
   "metadata": {},
   "outputs": [
    {
     "data": {
      "text/plain": [
       "'18324 80th Ave E, Unit # Puyallup WA 98375'"
      ]
     },
     "execution_count": 73,
     "metadata": {},
     "output_type": "execute_result"
    }
   ],
   "source": [
    "defendant_address"
   ]
  },
  {
   "cell_type": "code",
   "execution_count": null,
   "metadata": {},
   "outputs": [],
   "source": [
    "cur.execute(f\"UPDATE Records SET DefendantsAddress = \\'{defendant_address}\\' \")"
   ]
  }
 ],
 "metadata": {
  "kernelspec": {
   "display_name": "Python 3",
   "language": "python",
   "name": "python3"
  },
  "language_info": {
   "codemirror_mode": {
    "name": "ipython",
    "version": 3
   },
   "file_extension": ".py",
   "mimetype": "text/x-python",
   "name": "python",
   "nbconvert_exporter": "python",
   "pygments_lexer": "ipython3",
   "version": "3.9.6"
  }
 },
 "nbformat": 4,
 "nbformat_minor": 2
}
