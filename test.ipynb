{
 "cells": [
  {
   "cell_type": "code",
   "execution_count": 51,
   "metadata": {},
   "outputs": [],
   "source": [
    "from bs4 import BeautifulSoup\n",
    "import re\n",
    "import logging\n",
    "import datetime\n",
    "import pandas as pd\n",
    "import sqlite3\n",
    "LOG_FILENAME = 'html_extract.log'\n",
    "logging.basicConfig(filename=LOG_FILENAME,level=logging.DEBUG)\n",
    "\n",
    "\n",
    "\n",
    "df = pd.read_csv(\"CaseNumber.csv\")\n",
    "\n",
    "file = open(\"test.htm\",'r')\n",
    "soup = BeautifulSoup( file, \"html.parser\")\n",
    "tds = soup.select('td')\n",
    "\n",
    "x = \"\"\n",
    "for td in tds :\n",
    "    if \"Summons\" in td.text:\n",
    "        x = td"
   ]
  },
  {
   "cell_type": "code",
   "execution_count": 35,
   "metadata": {},
   "outputs": [],
   "source": [
    "objs = list(x.parent)"
   ]
  },
  {
   "cell_type": "code",
   "execution_count": 57,
   "metadata": {},
   "outputs": [
    {
     "data": {
      "text/plain": [
       "'2017-03-28'"
      ]
     },
     "execution_count": 57,
     "metadata": {},
     "output_type": "execute_result"
    }
   ],
   "source": [
    "# Date\n",
    "datetime.datetime.strptime(objs[0].text, '%m/%d/%Y').strftime('%Y-%m-%d')"
   ]
  },
  {
   "cell_type": "code",
   "execution_count": 37,
   "metadata": {},
   "outputs": [
    {
     "data": {
      "text/plain": [
       "'48960120.pdf'"
      ]
     },
     "execution_count": 37,
     "metadata": {},
     "output_type": "execute_result"
    }
   ],
   "source": [
    "# Href\n",
    "objs[1].find_all(\"a\", href=True)[0][\"href\"]"
   ]
  },
  {
   "cell_type": "code",
   "execution_count": 39,
   "metadata": {},
   "outputs": [],
   "source": [
    "tds = soup.select('td')\n",
    "\n",
    "y = \"\"\n",
    "for td in tds :\n",
    "    if  re.search(\"return on writ\", td.text, re.IGNORECASE):\n",
    "        y = td"
   ]
  },
  {
   "cell_type": "code",
   "execution_count": 40,
   "metadata": {},
   "outputs": [
    {
     "data": {
      "text/plain": [
       "<td valign=\"top\"><a href=\"49121667.pdf\"><img align=\"middle\" border=\"0\" height=\"15\" src=\"doc.gif\" width=\"13\"/> SHERIFF'S RETURN ON WRIT</a></td>"
      ]
     },
     "execution_count": 40,
     "metadata": {},
     "output_type": "execute_result"
    }
   ],
   "source": [
    "y"
   ]
  },
  {
   "cell_type": "code",
   "execution_count": 49,
   "metadata": {},
   "outputs": [
    {
     "data": {
      "text/plain": [
       "<td valign=\"top\"><a href=\"48606331.pdf\"><img align=\"middle\" border=\"0\" height=\"15\" src=\"doc.gif\" width=\"13\"/> ORDER OF DISMISSAL W/OUT PREJUDICE</a></td>"
      ]
     },
     "execution_count": 49,
     "metadata": {},
     "output_type": "execute_result"
    }
   ],
   "source": [
    "## Last\n",
    "tds[-5]"
   ]
  },
  {
   "cell_type": "code",
   "execution_count": null,
   "metadata": {},
   "outputs": [],
   "source": []
  }
 ],
 "metadata": {
  "kernelspec": {
   "display_name": "Python 3",
   "language": "python",
   "name": "python3"
  },
  "language_info": {
   "codemirror_mode": {
    "name": "ipython",
    "version": 3
   },
   "file_extension": ".py",
   "mimetype": "text/x-python",
   "name": "python",
   "nbconvert_exporter": "python",
   "pygments_lexer": "ipython3",
   "version": "3.9.6"
  }
 },
 "nbformat": 4,
 "nbformat_minor": 2
}
